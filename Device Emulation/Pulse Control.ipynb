{
 "cells": [
  {
   "cell_type": "code",
   "execution_count": null,
   "id": "e3dbd857-0273-4ceb-ad8f-7175a1aade5f",
   "metadata": {},
   "outputs": [],
   "source": []
  },
  {
   "cell_type": "code",
   "execution_count": 1,
   "id": "4f4f742c-2baa-40b8-9424-ab49619781d2",
   "metadata": {},
   "outputs": [],
   "source": [
    "import warnings\n",
    "warnings.filterwarnings('ignore')\n",
    "from qiskit.tools.jupyter import *\n",
    "\n",
    "from qiskit import IBMQ\n",
    "IBMQ.load_account()\n",
    "provider = IBMQ.get_provider(hub='ibm-q', group='open', project='main')\n",
    "backend = provider.get_backend('ibmq_manila')"
   ]
  },
  {
   "cell_type": "code",
   "execution_count": 2,
   "id": "d7ffe3de-d180-4abc-ad4c-65de7440fcba",
   "metadata": {},
   "outputs": [],
   "source": [
    "backend_config = backend.configuration()"
   ]
  },
  {
   "cell_type": "markdown",
   "id": "e63388e8-3e84-4d04-bb12-400b6904cb5e",
   "metadata": {
    "tags": []
   },
   "source": [
    "# Checking the Configuration\n",
    "\n",
    "Now that we've loaded the real backend and grabbed the device configuration, we can check out the sampling time ```dt```. This is reported in seconds, but is nanoseconds in length."
   ]
  },
  {
   "cell_type": "code",
   "execution_count": 3,
   "id": "25cc0cec-c4de-4dec-862d-fd482fa9b2e8",
   "metadata": {},
   "outputs": [
    {
     "name": "stdout",
     "output_type": "stream",
     "text": [
      "Sampling time: 0.2222222222222222 ns\n"
     ]
    }
   ],
   "source": [
    "dt = backend_config.dt\n",
    "print(f\"Sampling time: {dt*1e9} ns\")    # The configuration returns dt in seconds, so multiply by\n",
    "                                        # 1e9 to get nanoseconds"
   ]
  },
  {
   "cell_type": "markdown",
   "id": "62920b99-d461-404a-aaf6-1656aefecac5",
   "metadata": {},
   "source": [
    "We can also check out the timing constraints, where everything is in multiples of ```dt```. `Granularity` determines pulse lengths.\n",
    "\n",
    "The measurement pulse position must be an integer multiple of `acquire_alignment`, and the gate position must be an integer multiple of `pulse_alignment`.\n",
    "\n",
    "In experiments with delays and gates, we must select a delay that is a common multiple of `acquire_alignment` and `pulse_alignment`."
   ]
  },
  {
   "cell_type": "code",
   "execution_count": 4,
   "id": "76ae8884-6092-4f2d-89e0-072bdc1e7268",
   "metadata": {},
   "outputs": [
    {
     "data": {
      "text/plain": [
       "{'acquire_alignment': 16,\n",
       " 'granularity': 16,\n",
       " 'min_length': 64,\n",
       " 'pulse_alignment': 1}"
      ]
     },
     "execution_count": 4,
     "metadata": {},
     "output_type": "execute_result"
    }
   ],
   "source": [
    "backend.configuration().timing_constraints"
   ]
  },
  {
   "cell_type": "code",
   "execution_count": 5,
   "id": "c97333e2-deff-4522-9b42-21f7212299e0",
   "metadata": {},
   "outputs": [
    {
     "name": "stdout",
     "output_type": "stream",
     "text": [
      "Least common multiple of acquire_alignment and pulse_alignment: 16\n"
     ]
    }
   ],
   "source": [
    "acquire_alignment = backend.configuration().timing_constraints['acquire_alignment']\n",
    "granularity = backend.configuration().timing_constraints['granularity']\n",
    "pulse_alignment = backend.configuration().timing_constraints['pulse_alignment']\n",
    "import numpy as np\n",
    "\n",
    "lcm = np.lcm(acquire_alignment, pulse_alignment)\n",
    "print(f\"Least common multiple of acquire_alignment and pulse_alignment: {lcm}\")"
   ]
  },
  {
   "cell_type": "markdown",
   "id": "36ff76b4-3e2b-44cd-ba87-ba1f2b211b14",
   "metadata": {},
   "source": [
    "There are some defaults that are accessible with estimates for qubit frequencies and programs to enact some operators.\n",
    "\n",
    "This includes default frequencies for measurement and drive channels."
   ]
  },
  {
   "cell_type": "code",
   "execution_count": 6,
   "id": "736cbd19-3d47-43c7-9adc-e6900ce69d2d",
   "metadata": {},
   "outputs": [
    {
     "name": "stdout",
     "output_type": "stream",
     "text": [
      "DriveChannel(0) defaults to a modulation frequency of 4.962280054074476 GHz.\n",
      "MeasureChannel(0) defaults to a modulation frequency of 7.163170819 GHz.\n"
     ]
    }
   ],
   "source": [
    "backend_defaults = backend.defaults()\n",
    "\n",
    "q0_freq = backend_defaults.qubit_freq_est[0]  # Hz\n",
    "q0_meas_freq = backend_defaults.meas_freq_est[0]  # Hz\n",
    "\n",
    "GHz = 1e-9\n",
    "print(\"DriveChannel(0) defaults to a modulation frequency of {} GHz.\".format(q0_freq * GHz))\n",
    "print(\"MeasureChannel(0) defaults to a modulation frequency of {} GHz.\".format(q0_meas_freq * GHz))"
   ]
  },
  {
   "cell_type": "markdown",
   "id": "6c057022-e8d2-488f-a4f5-a79fec7aa886",
   "metadata": {},
   "source": [
    "# Frequency Sweep to find Qubit Frequency\n",
    "\n",
    "We can apply pulses of varying frequencies to check which ones are absorbed. This will give us a rough idea of the frequency that separates the $|0\\rangle$ and $|1\\rangle$ states. Here, we're sweeping over a windwo of 40 MHz with steps of 1 MHz."
   ]
  },
  {
   "cell_type": "code",
   "execution_count": 7,
   "id": "0e86915a-a9ed-458e-93c9-c591b7dd0ca6",
   "metadata": {},
   "outputs": [
    {
     "name": "stdout",
     "output_type": "stream",
     "text": [
      "Qubit 0 has an estimated frequency of 4.962280054074476 GHz.\n",
      "The sweep will go from 4.942280054074477 GHz to 4.982280054074476 GHz in steps of 1.0 MHz.\n"
     ]
    }
   ],
   "source": [
    "# unit conversion factors -> all backend properties returned in SI (Hz, sec, etc.)\n",
    "GHz = 1.0e9 # Gigahertz\n",
    "MHz = 1.0e6 # Megahertz\n",
    "us = 1.0e-6 # Microseconds\n",
    "ns = 1.0e-9 # Nanoseconds\n",
    "\n",
    "# We will find the qubit frequency for the following qubit.\n",
    "qubit = 0\n",
    "\n",
    "# The sweep will be centered around the estimated qubit frequency.\n",
    "center_frequency_Hz = backend_defaults.qubit_freq_est[qubit]        # The default frequency is given in Hz\n",
    "                                                                    # warning: this will change in a future release\n",
    "print(f\"Qubit {qubit} has an estimated frequency of {center_frequency_Hz / GHz} GHz.\")\n",
    "\n",
    "# scale factor to remove factors of 10 from the data\n",
    "scale_factor = 1e-7\n",
    "\n",
    "# We will sweep 40 MHz around the estimated frequency\n",
    "frequency_span_Hz = 40 * MHz\n",
    "# in steps of 1 MHz.\n",
    "frequency_step_Hz = 1 * MHz\n",
    "\n",
    "# We will sweep 20 MHz above and 20 MHz below the estimated frequency\n",
    "frequency_min = center_frequency_Hz - frequency_span_Hz / 2\n",
    "frequency_max = center_frequency_Hz + frequency_span_Hz / 2\n",
    "# Construct an np array of the frequencies for our experiment\n",
    "frequencies_GHz = np.arange(frequency_min / GHz, \n",
    "                            frequency_max / GHz, \n",
    "                            frequency_step_Hz / GHz)\n",
    "\n",
    "print(f\"The sweep will go from {frequency_min / GHz} GHz to {frequency_max / GHz} GHz \\\n",
    "in steps of {frequency_step_Hz / MHz} MHz.\")"
   ]
  },
  {
   "cell_type": "markdown",
   "id": "b7d33e56-4609-40d0-be8d-a219587cc511",
   "metadata": {},
   "source": [
    "We'll first need a few values: duration, sigma, channel.\n",
    "\n",
    "The pulses are then executed sequentially in a pulse flow. We will define the pulse frequency for the drive pulse used in the experiment, and the measurement pulse. The drive pulse is usually Gaussian.\n",
    "\n"
   ]
  },
  {
   "cell_type": "code",
   "execution_count": 8,
   "id": "10f97819-f057-4e04-802d-3c516eb5dcb2",
   "metadata": {},
   "outputs": [],
   "source": [
    "def get_closest_multiple_of(value, base_number):\n",
    "    return int(value + base_number/2) - (int(value + base_number/2) % base_number)"
   ]
  },
  {
   "cell_type": "markdown",
   "id": "5993ab86-945f-4cdf-9d92-51084d4c4613",
   "metadata": {},
   "source": [
    "We define a function that we use to determine the length of the pulse. Because `granularity` defines pulse length, we want the nearest multiple of a given number and `granularity` (which is 16 `dt` here). "
   ]
  },
  {
   "cell_type": "code",
   "execution_count": 9,
   "id": "436908e7-fe53-45e9-aaae-9ec4f3c66e90",
   "metadata": {},
   "outputs": [],
   "source": [
    "# Determining pulse length. Samples need to be multiples of 16\n",
    "def get_closest_multiple_of_16(num):\n",
    "    return get_closest_multiple_of(num, granularity)"
   ]
  },
  {
   "cell_type": "markdown",
   "id": "979be218-9b64-460b-a12e-5bbc089c9ab2",
   "metadata": {},
   "source": [
    "Similarly, we need the length of delay. Recall from above that this has to be a common multiple of `acquire_alignment` and `pulse_alignment` (`lcm` variable)."
   ]
  },
  {
   "cell_type": "code",
   "execution_count": 10,
   "id": "cac30d5c-c634-4702-b07b-2b2d05ff6aeb",
   "metadata": {},
   "outputs": [],
   "source": [
    "# Adjusting length of delay. Convert seconds to dt\n",
    "def get_dt_from(sec):\n",
    "    return get_closest_multiple_of(sec/dt, lcm)"
   ]
  },
  {
   "cell_type": "code",
   "execution_count": 11,
   "id": "4f8bdd87-1d57-4942-9307-cdbe12f8b6df",
   "metadata": {},
   "outputs": [],
   "source": [
    "from qiskit import pulse                  # This is where we access all of our Pulse features!\n",
    "from qiskit.circuit import Parameter      # This is Parameter Class for variable parameters.\n",
    "from qiskit.circuit import QuantumCircuit, Gate\n",
    "\n",
    "# Drive pulse parameters (us = microseconds)\n",
    "drive_sigma_sec = 0.015 * us                           # This determines the actual width of the gaussian, sigma\n",
    "drive_duration_sec = drive_sigma_sec * 8               # This is a truncating parameter, because gaussians don't have \n",
    "                                                       # a natural finite length\n",
    "drive_amp = 0.05                                       # Arbitrarily set. Can go up to a maximum of 1 for any backend\n",
    "\n",
    "freq = Parameter('freq') # Creates a string variable \"freq\". We could type φ=Parameter(\"freq\") and every instance of \n",
    "                         # φ will return the string \"freq\"\n",
    "\n",
    "# Creating a pulse schedule called \"sweep_sched\". It doesn't need to be referenced in this code block.\n",
    "# Start with drive pulse acting on the drive channel\n",
    "with pulse.build(backend=backend, default_alignment='sequential', name='Frequency sweep') as sweep_sched:\n",
    "    # Finding out how long the Gaussian-modulated pulse needs to be. Converts the pulse duration into\n",
    "    # samples, whose closest multiple of granularity (16) is then found.\n",
    "    drive_duration = get_closest_multiple_of_16(pulse.seconds_to_samples(drive_duration_sec))\n",
    "    \n",
    "    # Again, converting the pulse width in seconds into samples\n",
    "    drive_sigma = pulse.seconds_to_samples(drive_sigma_sec)\n",
    "    \n",
    "    # Grabbing the drive channel for a specified qubit so that the pulse can be sent\n",
    "    drive_chan = pulse.drive_channel(qubit)\n",
    "    \n",
    "    # Set the frequency of the drive channel - this is the frequency of the pulse\n",
    "    pulse.set_frequency(freq, drive_chan)\n",
    "    \n",
    "    # Adding in the Gaussian pulse to the drive channel (actually adding it), with parameters in samples\n",
    "    pulse.play(pulse.Gaussian(duration=drive_duration,\n",
    "                              sigma=drive_sigma,\n",
    "                              amp=drive_amp,\n",
    "                              name='freq_sweep_excitation_pulse'), drive_chan)"
   ]
  },
  {
   "cell_type": "code",
   "execution_count": 12,
   "id": "611834da-cca3-4c54-9e82-fb9018e387c2",
   "metadata": {},
   "outputs": [
    {
     "data": {
      "image/png": "[encoded data removed]",
      "text/plain": [
       "<Figure size 253.926x144.48 with 1 Axes>"
      ]
     },
     "execution_count": 12,
     "metadata": {},
     "output_type": "execute_result"
    }
   ],
   "source": [
    "# We create a custom gate to apply to our circuit:\n",
    "sweep_gate = Gate(\"sweep\", 1, [freq])\n",
    "\n",
    "qc_sweep = QuantumCircuit(1, 1)\n",
    "\n",
    "qc_sweep.append(sweep_gate, [0])\n",
    "qc_sweep.measure(0, 0)\n",
    "# Adding the calibration here adds an extra gate\n",
    "#     QuantumCircuit.add_calibration(gate, qubits, schedule, parameters)\n",
    "# where gate can be a circuit.Gate object or a name\n",
    "qc_sweep.add_calibration(sweep_gate, (0,), sweep_sched, [freq])\n",
    "qc_sweep.draw()"
   ]
  },
  {
   "cell_type": "code",
   "execution_count": 13,
   "id": "15fc7a49-0192-4766-9e78-34f24aa0f332",
   "metadata": {},
   "outputs": [],
   "source": [
    "# Create the frequency settings for the sweep (MUST BE IN HZ)\n",
    "frequencies_Hz = frequencies_GHz*GHz\n",
    "\n",
    "# This next line creates a list of circuits with different frequencies. The parameter \"freq\", wherever it appears in\n",
    "# the circuit construction is given the value for f for every f in frequencies_HZ\n",
    "# Parameters must be specified as a dictionary.\n",
    "# https://qiskit.org/documentation/stubs/qiskit.circuit.QuantumCircuit.assign_parameters.html\n",
    "\n",
    "# inplace = False creates a copy of the circuit. inplace=True modifies the existing circuit\n",
    "exp_sweep_circs = [qc_sweep.assign_parameters({freq: f}, inplace=False) for f in frequencies_Hz]"
   ]
  },
  {
   "cell_type": "code",
   "execution_count": 14,
   "id": "b8fa180c-8992-49b7-8102-b0c615620e50",
   "metadata": {},
   "outputs": [
    {
     "data": {
      "image/png": "[encoded data removed]",
      "text/plain": [
       "<Figure size 936x237.6 with 1 Axes>"
      ]
     },
     "execution_count": 14,
     "metadata": {},
     "output_type": "execute_result"
    }
   ],
   "source": [
    "from qiskit import schedule\n",
    "# Example of a sweep circuit for a given frequency\n",
    "sweep_schedule = schedule(exp_sweep_circs[0], backend)\n",
    "sweep_schedule.draw(backend=backend)\n",
    "\n",
    "# The -20 MHz is the frequency adjustment from the expected frequency the backend provides.\n",
    "# Since we're sweeping over 40MHz around this frequency, we go from -20 MHz to +20 MHz"
   ]
  },
  {
   "cell_type": "markdown",
   "id": "9c4be791-0b4e-4475-bfe7-0e12d68126f6",
   "metadata": {},
   "source": [
    "Returning one complex value per shot `meas_level=1` and the average of each result, rather than each shot individually. Each point in the schedule (each point in the frequency sweep) is repeated `num_shots_per_frequency` times."
   ]
  },
  {
   "cell_type": "code",
   "execution_count": null,
   "id": "51bac25e-73b8-4cce-b8b4-fc37d2453ee0",
   "metadata": {},
   "outputs": [
    {
     "name": "stdout",
     "output_type": "stream",
     "text": [
      "Job Status: job is queued (83) "
     ]
    }
   ],
   "source": [
    "num_shots_per_frequency = 2048\n",
    "\n",
    "job = backend.run(exp_sweep_circs, \n",
    "                  meas_level=1, \n",
    "                  meas_return='avg', \n",
    "                  shots=num_shots_per_frequency)\n",
    "from qiskit.tools.monitor import job_monitor\n",
    "job_monitor(job)\n",
    "\n",
    "frequency_sweep_results = job.result(timeout=120) # timeout parameter set to 120 seconds\n",
    "\n",
    "import matplotlib.pyplot as plt\n",
    "\n",
    "sweep_values = []\n",
    "for i in range(len(frequency_sweep_results.results)):\n",
    "    # Get the results from the ith experiment\n",
    "    res = frequency_sweep_results.get_memory(i)*scale_factor\n",
    "    # Get the results for `qubit` from this experiment\n",
    "    sweep_values.append(res[qubit])\n",
    "\n",
    "np.savetxt(\"v=0.05, 2048 shots, 1 step gaussian frequencies.txt\", frequencies_GHz, delimiter=\",\")\n",
    "np.savetxt(\"v=0.05, 2048 shots, 1 step gaussian data.txt\", np.real(sweep_values), delimiter=\",\")"
   ]
  },
  {
   "cell_type": "markdown",
   "id": "5a60d230-1ca8-406e-88ff-6d32f6377b7b",
   "metadata": {},
   "source": [
    "Then, results"
   ]
  },
  {
   "cell_type": "code",
   "execution_count": null,
   "id": "5cb33634-eb7b-4469-8727-65a3a9222a08",
   "metadata": {},
   "outputs": [],
   "source": [
    "frequency_sweep_results = job.result(timeout=120) # timeout parameter set to 120 seconds\n",
    "\n",
    "import matplotlib.pyplot as plt\n",
    "\n",
    "sweep_values = []\n",
    "for i in range(len(frequency_sweep_results.results)):\n",
    "    # Get the results from the ith experiment\n",
    "    res = frequency_sweep_results.get_memory(i)*scale_factor\n",
    "    # Get the results for `qubit` from this experiment\n",
    "    sweep_values.append(res[qubit])\n",
    "\n",
    "plt.scatter(frequencies_GHz, np.real(sweep_values), color='black') # plot real part of sweep values\n",
    "plt.xlim([min(frequencies_GHz), max(frequencies_GHz)])\n",
    "plt.xlabel(\"Frequency [GHz]\")\n",
    "plt.ylabel(\"Measured signal [a.u.]\")\n",
    "plt.show()\n"
   ]
  },
  {
   "cell_type": "code",
   "execution_count": null,
   "id": "edee2092-d822-4ed0-98c6-5e643925fffa",
   "metadata": {},
   "outputs": [],
   "source": [
    "from scipy.optimize import curve_fit\n",
    "\n",
    "def fit_function(x_values, y_values, function, init_params):\n",
    "    fitparams, conv = curve_fit(function, x_values, y_values, init_params)\n",
    "    y_fit = function(x_values, *fitparams)\n",
    "    \n",
    "    return fitparams, y_fit"
   ]
  },
  {
   "cell_type": "code",
   "execution_count": null,
   "id": "e5561aaa-1e22-4ca8-af17-febe6cff7d99",
   "metadata": {},
   "outputs": [],
   "source": [
    "fit_params, y_fit = fit_function(frequencies_GHz,\n",
    "                                 np.real(sweep_values), \n",
    "                                 lambda x, A, q_freq, B, C: (A / np.pi) * (B / ((x - q_freq)**2 + B**2)) + C,\n",
    "                                 [1, 4.975, 1, -2] # initial parameters for curve_fit\n",
    "                                )"
   ]
  },
  {
   "cell_type": "code",
   "execution_count": null,
   "id": "44401a40-2e7b-468b-907a-ed450fe72458",
   "metadata": {},
   "outputs": [],
   "source": [
    "plt.scatter(frequencies_GHz, np.real(sweep_values), color='black')\n",
    "plt.plot(frequencies_GHz, y_fit, color='red')\n",
    "plt.xlim([min(frequencies_GHz), max(frequencies_GHz)])\n",
    "\n",
    "plt.xlabel(\"Frequency [GHz]\")\n",
    "plt.ylabel(\"Measured Signal [a.u.]\")\n",
    "plt.show()"
   ]
  },
  {
   "cell_type": "code",
   "execution_count": null,
   "id": "4502b69a-1d72-4654-a693-f77261bc2807",
   "metadata": {},
   "outputs": [],
   "source": [
    "A, rough_qubit_frequency, B, C = fit_params\n",
    "rough_qubit_frequency = rough_qubit_frequency*GHz # make sure qubit freq is in Hz\n",
    "print(f\"We've updated our qubit frequency estimate from \"\n",
    "      f\"{round(backend_defaults.qubit_freq_est[qubit] / GHz, 5)} GHz to {round(rough_qubit_frequency/GHz, 5)} GHz.\")"
   ]
  },
  {
   "cell_type": "markdown",
   "id": "18d24d35-1103-41cc-a2be-7d70fcdf02bc",
   "metadata": {},
   "source": [
    "# $\\Pi$ Pulses and the Rabi Experiment\n",
    "\n",
    "Now we know the frequency between $|0\\rangle$ and $|1\\rangle$, we need to determine the amplitude to achieve this flip."
   ]
  },
  {
   "cell_type": "code",
   "execution_count": 29,
   "id": "a0ae092d-7e47-4771-812f-8ba82b0eff71",
   "metadata": {},
   "outputs": [],
   "source": [
    "# This experiment uses these values from the previous experiment:\n",
    "    # `qubit`,\n",
    "    # `mem_slot`, and\n",
    "    # `rough_qubit_frequency`.\n",
    "\n",
    "# Rabi experiment parameters\n",
    "num_rabi_points = 50\n",
    "\n",
    "# Drive amplitude values to iterate over: 50 amplitudes evenly spaced from 0 to 0.75\n",
    "drive_amp_min = 0\n",
    "drive_amp_max = 0.75\n",
    "drive_amps = np.linspace(drive_amp_min, drive_amp_max, num_rabi_points)"
   ]
  },
  {
   "cell_type": "code",
   "execution_count": 30,
   "id": "9f906d57-c66d-444b-859e-8b9881915baa",
   "metadata": {},
   "outputs": [],
   "source": [
    "# Build the Rabi experiments:\n",
    "#    A drive pulse at the qubit frequency, followed by a measurement,\n",
    "#    where we vary the drive amplitude each time.\n",
    "\n",
    "drive_amp = Parameter('drive_amp')\n",
    "with pulse.build(backend=backend, default_alignment='sequential', name='Rabi Experiment') as rabi_sched:\n",
    "    drive_duration = get_closest_multiple_of_16(pulse.seconds_to_samples(drive_duration_sec))\n",
    "    drive_sigma = pulse.seconds_to_samples(drive_sigma_sec)\n",
    "    drive_chan = pulse.drive_channel(qubit)\n",
    "    pulse.set_frequency(rough_qubit_frequency, drive_chan)\n",
    "    pulse.play(pulse.Gaussian(duration=drive_duration,\n",
    "                              amp=drive_amp,\n",
    "                              sigma=drive_sigma,\n",
    "                              name='Rabi Pulse'), drive_chan)"
   ]
  },
  {
   "cell_type": "code",
   "execution_count": 31,
   "id": "ef663592-7783-432b-9060-ce427baa860b",
   "metadata": {},
   "outputs": [],
   "source": [
    "rabi_gate = Gate(\"rabi\", 1, [drive_amp])\n",
    "\n",
    "qc_rabi = QuantumCircuit(1, 1)\n",
    "\n",
    "qc_rabi.append(rabi_gate, [0])\n",
    "qc_rabi.measure(0, 0)\n",
    "qc_rabi.add_calibration(rabi_gate, (0,), rabi_sched, [drive_amp])\n",
    "\n",
    "exp_rabi_circs = [qc_rabi.assign_parameters({drive_amp: a}, inplace=False) for a in drive_amps]"
   ]
  },
  {
   "cell_type": "code",
   "execution_count": 32,
   "id": "ce484a49-c871-4f51-91e0-2e32ec84d31e",
   "metadata": {},
   "outputs": [
    {
     "data": {
      "image/png": "[encoded data removed]",
      "text/plain": [
       "<Figure size 936x237.6 with 1 Axes>"
      ]
     },
     "execution_count": 32,
     "metadata": {},
     "output_type": "execute_result"
    }
   ],
   "source": [
    "rabi_schedule = schedule(exp_rabi_circs[-1], backend)\n",
    "rabi_schedule.draw(backend=backend)"
   ]
  },
  {
   "cell_type": "code",
   "execution_count": 33,
   "id": "8d3c38b7-e303-487d-92f8-a65b2fad71fa",
   "metadata": {},
   "outputs": [
    {
     "name": "stdout",
     "output_type": "stream",
     "text": [
      "Job Status: job has successfully run\n"
     ]
    }
   ],
   "source": [
    "num_shots_per_point = 1024\n",
    "\n",
    "job = backend.run(exp_rabi_circs, \n",
    "                  meas_level=1, \n",
    "                  meas_return='avg', \n",
    "                  shots=num_shots_per_point)\n",
    "\n",
    "job_monitor(job)"
   ]
  },
  {
   "cell_type": "code",
   "execution_count": null,
   "id": "6cdb564f-1515-4f1b-85cd-8a7bc4f0ac1f",
   "metadata": {},
   "outputs": [],
   "source": [
    "rabi_results = job.result(timeout=120)\n",
    "\n",
    "# center data around 0\n",
    "def baseline_remove(values):\n",
    "    return np.array(values) - np.mean(values)"
   ]
  },
  {
   "cell_type": "code",
   "execution_count": null,
   "id": "a9f49547-43b4-4cdf-ac12-d720db6e53e1",
   "metadata": {},
   "outputs": [],
   "source": [
    "rabi_values = []\n",
    "for i in range(num_rabi_points):\n",
    "    # Get the results for `qubit` from the ith experiment\n",
    "    rabi_values.append(rabi_results.get_memory(i)[qubit] * scale_factor)\n",
    "\n",
    "rabi_values = np.real(baseline_remove(rabi_values))\n",
    "\n",
    "plt.xlabel(\"Drive amp [a.u.]\")\n",
    "plt.ylabel(\"Measured signal [a.u.]\")\n",
    "plt.scatter(drive_amps, rabi_values, color='black') # plot real part of Rabi values\n",
    "plt.show()"
   ]
  },
  {
   "cell_type": "code",
   "execution_count": null,
   "id": "3b8fd5b0-a51f-4e31-8cb2-36d077a6dd69",
   "metadata": {},
   "outputs": [],
   "source": [
    "fit_params, y_fit = fit_function(drive_amps,\n",
    "                                 rabi_values, \n",
    "                                 lambda x, A, B, drive_period, phi: (A*np.cos(2*np.pi*x/drive_period - phi) + B),\n",
    "                                 [2, 0, 0.2, 0])\n",
    "\n",
    "plt.scatter(drive_amps, rabi_values, color='black')\n",
    "plt.plot(drive_amps, y_fit, color='red')\n",
    "\n",
    "drive_period = fit_params[2] # get period of rabi oscillation\n",
    "\n",
    "plt.axvline(drive_period/2, color='red', linestyle='--')\n",
    "plt.axvline(drive_period, color='red', linestyle='--')\n",
    "plt.annotate(\"\", xy=(drive_period, 0), xytext=(drive_period/2,0), arrowprops=dict(arrowstyle=\"<->\", color='red'))\n",
    "plt.annotate(\"$\\pi$\", xy=(drive_period/2-0.03, 0.1), color='red')\n",
    "\n",
    "plt.xlabel(\"Drive amp [a.u.]\", fontsize=15)\n",
    "plt.ylabel(\"Measured signal [a.u.]\", fontsize=15)\n",
    "plt.show()"
   ]
  },
  {
   "cell_type": "code",
   "execution_count": null,
   "id": "83e57c70-9ae0-488c-bb0c-09250243a069",
   "metadata": {},
   "outputs": [],
   "source": [
    "pi_amp = abs(drive_period / 2)\n",
    "print(f\"Pi Amplitude = {pi_amp}\")"
   ]
  }
 ],
 "metadata": {
  "kernelspec": {
   "display_name": "Python 3 (ipykernel)",
   "language": "python",
   "name": "python3"
  },
  "language_info": {
   "codemirror_mode": {
    "name": "ipython",
    "version": 3
   },
   "file_extension": ".py",
   "mimetype": "text/x-python",
   "name": "python",
   "nbconvert_exporter": "python",
   "pygments_lexer": "ipython3",
   "version": "3.8.13"
  },
  "widgets": {
   "application/vnd.jupyter.widget-state+json": {
    "state": {},
    "version_major": 2,
    "version_minor": 0
   }
  }
 },
 "nbformat": 4,
 "nbformat_minor": 5
}
